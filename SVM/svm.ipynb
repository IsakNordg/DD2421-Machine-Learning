{
 "cells": [
  {
   "cell_type": "code",
   "execution_count": 92,
   "metadata": {},
   "outputs": [],
   "source": [
    "from scipy.optimize import minimize\n",
    "import numpy as np\n",
    "import random, math\n",
    "import matplotlib.pyplot as plt\n",
    "\n",
    "#ret = minimize(objective, start, bounds=B, constraints=XC)\n",
    "#alpha = ret['x']\n",
    "#This will find the vector ⃗ which minimizes the function objective within the bounds B and the constraints XC."
   ]
  },
  {
   "cell_type": "markdown",
   "metadata": {},
   "source": [
    "Objective: \n",
    "\n",
    "![test](objective.png)\n",
    "\n",
    "Start: A vector of zeros. numpy.zeros(N)\n",
    "\n",
    "Bounds: (0, C) for each element of A\n",
    "\n",
    "XC:\n",
    "\n",
    "![Alt text](10.png)"
   ]
  },
  {
   "cell_type": "code",
   "execution_count": 93,
   "metadata": {},
   "outputs": [],
   "source": [
    "def linearKernel(x, y):\n",
    "    return np.dot(x, y)\n",
    "\n",
    "def polynomialKernel(x, y, p=3):\n",
    "    return (1 + np.dot(x, y)) ** p\n",
    "\n",
    "def RBFKernel(x, y, sigma=5.0):\n",
    "    return np.exp(-np.linalg.norm(x-y)**2 / (2 * (sigma ** 2)))"
   ]
  },
  {
   "cell_type": "code",
   "execution_count": 94,
   "metadata": {},
   "outputs": [],
   "source": [
    "def objective(alpha):\n",
    "    #Effectively implements the expression that should be minimized (our equation)\n",
    "    \n",
    "    for i in range(len(alpha)):\n",
    "        for j in range(len(alpha)):\n",
    "            scalarValue += alpha[i] * alpha[j] * P[i][j]\n",
    "\n",
    "    return scalarValue"
   ]
  },
  {
   "cell_type": "code",
   "execution_count": 95,
   "metadata": {},
   "outputs": [
    {
     "name": "stdout",
     "output_type": "stream",
     "text": [
      "[3 2]\n",
      "-1\n"
     ]
    }
   ],
   "source": [
    "#TRAINING DATA\n",
    "x = np.array([[1, 2], \n",
    "              [2, 3], \n",
    "              [3, 3], \n",
    "              [2, 1], \n",
    "              [3, 2]])\n",
    "t = np.array([1, 1, 1, -1, -1])\n",
    "print(x[4])\n",
    "print(t[3])"
   ]
  },
  {
   "cell_type": "code",
   "execution_count": 96,
   "metadata": {},
   "outputs": [
    {
     "name": "stdout",
     "output_type": "stream",
     "text": [
      "[[  5.   8.   9.  -4.  -7.]\n",
      " [  8.  13.  15.  -7. -12.]\n",
      " [  9.  15.  18.  -9. -15.]\n",
      " [ -4.  -7.  -9.   5.   8.]\n",
      " [ -7. -12. -15.   8.  13.]]\n"
     ]
    }
   ],
   "source": [
    "N = 5\n",
    "P = np.zeros((N, N))\n",
    "for i in range(N):\n",
    "    for j in range(N):\n",
    "        P[i][j] = t[i]*t[j]*linearKernel(x[i], x[j])\n",
    "\n",
    "print(P)"
   ]
  }
 ],
 "metadata": {
  "kernelspec": {
   "display_name": "base",
   "language": "python",
   "name": "python3"
  },
  "language_info": {
   "codemirror_mode": {
    "name": "ipython",
    "version": 3
   },
   "file_extension": ".py",
   "mimetype": "text/x-python",
   "name": "python",
   "nbconvert_exporter": "python",
   "pygments_lexer": "ipython3",
   "version": "3.10.8"
  },
  "orig_nbformat": 4
 },
 "nbformat": 4,
 "nbformat_minor": 2
}
