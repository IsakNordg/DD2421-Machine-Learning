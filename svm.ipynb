{
 "cells": [
  {
   "cell_type": "code",
   "execution_count": 469,
   "metadata": {},
   "outputs": [],
   "source": [
    "from scipy.optimize import minimize\n",
    "import numpy as np\n",
    "import random, math\n",
    "import matplotlib.pyplot as plt\n",
    "\n",
    "#ret = minimize(objective, start, bounds=B, constraints=XC)\n",
    "#alpha = ret['x']\n",
    "#This will find the vector ⃗ which minimizes the function objective within the bounds B and the constraints XC."
   ]
  },
  {
   "cell_type": "markdown",
   "metadata": {},
   "source": [
    "Objective: \n",
    "\n",
    "![test](objective.png)\n",
    "\n",
    "Start: A vector of zeros. numpy.zeros(N)\n",
    "\n",
    "Bounds: (0, C) for each element of A\n",
    "\n",
    "XC:\n",
    "\n",
    "![Alt text](10.png)"
   ]
  },
  {
   "cell_type": "code",
   "execution_count": 470,
   "metadata": {},
   "outputs": [],
   "source": [
    "########## KERNELS ##########\n",
    "def linearKernel(x, y):\n",
    "    return np.dot(x, y)\n",
    "\n",
    "def polynomialKernel(x, y, p=3):\n",
    "    return (1 + np.dot(x, y)) ** p\n",
    "\n",
    "def RBFKernel(x, y, sigma=5.0):\n",
    "    return np.exp(-np.linalg.norm(x-y)**2 / (2 * (sigma ** 2)))"
   ]
  },
  {
   "cell_type": "code",
   "execution_count": 471,
   "metadata": {},
   "outputs": [],
   "source": [
    "########## PRE-COMPUTED MATRIX P ##########\n",
    "def precomputedMatrixP(x, t):\n",
    "    P = np.zeros((N, N))\n",
    "    for i in range(N):\n",
    "        for j in range(N):\n",
    "            P[i][j] = t[i]*t[j]*linearKernel(x[i], x[j])\n",
    "    return P"
   ]
  },
  {
   "cell_type": "code",
   "execution_count": 472,
   "metadata": {},
   "outputs": [],
   "source": [
    "########## OBJECTIVE FUNCTION ##########\n",
    "def objective(alpha):\n",
    "    return ((1/2) * np.dot(np.dot(alpha, P), alpha)) - np.sum(alpha)"
   ]
  },
  {
   "cell_type": "code",
   "execution_count": 473,
   "metadata": {},
   "outputs": [],
   "source": [
    "########## EQUALITY CONSTRAINT ##########\n",
    "def zerofun(alpha):\n",
    "    return np.dot(alpha, t)"
   ]
  },
  {
   "cell_type": "code",
   "execution_count": 474,
   "metadata": {},
   "outputs": [],
   "source": [
    "########## EXTRACT NON-ZERO ALPHA-VALUES ##########\n",
    "xNew = []\n",
    "tNew = []\n",
    "alphaNew = []\n",
    "for i in range(len(alpha)):\n",
    "    if abs(alpha[i]) > 10**(-5):\n",
    "        xNew.append(x[i])\n",
    "        tNew.append(t[i])\n",
    "        alphaNew.append(alpha[i])"
   ]
  },
  {
   "cell_type": "code",
   "execution_count": 475,
   "metadata": {},
   "outputs": [],
   "source": [
    "########## CALCULATE B ##########\n",
    "def b():\n",
    "    b = 0\n",
    "    for i in range(len(alphaNew)):\n",
    "        #print(xNew[:][i])\n",
    "        b += alphaNew[i]*tNew[i]*linearKernel(xNew[0], xNew[i]) \n",
    "    b -= tNew[0]\n",
    "    return b\n",
    "b = b()\n"
   ]
  },
  {
   "cell_type": "code",
   "execution_count": 476,
   "metadata": {},
   "outputs": [],
   "source": [
    "########## INDICATOR FUNCTION ##########\n",
    "def indicator(x, y):\n",
    "    val = 0\n",
    "    for i in range(len(alphaNew)):\n",
    "        val += alphaNew[i]*tNew[i]*linearKernel(np.array([x, y]), xNew[i])\n",
    "    val -= b\n",
    "    if val > 0:\n",
    "        return 1\n",
    "    else:\n",
    "        return -1"
   ]
  },
  {
   "cell_type": "code",
   "execution_count": 477,
   "metadata": {},
   "outputs": [],
   "source": [
    "np.random.seed(100)\n",
    "\n",
    "classA = np.concatenate((\n",
    "        np.random.randn(10, 2) * 0.2 + [1.5, 0.5],\n",
    "        np.random.randn(10, 2) * 0.2 + [-1.5, 0.5]\n",
    "    ))\n",
    "classB = np.random.randn(20, 2) * 0.2 + [0.0, -0.5]\n",
    "\n",
    "inputs = np.concatenate((classA, classB))\n",
    "targets = np.concatenate((\n",
    "        np.ones(classA.shape[0]),\n",
    "        -np.ones(classB.shape[0])\n",
    "    ))\n",
    "\n",
    "C = 100\n",
    "N = inputs.shape[0]  # Number of rows (samples)\n",
    "permute = list(range(N))\n",
    "np.random.shuffle(permute)\n",
    "inputs = inputs[permute, :]\n",
    "targets = targets[permute]\n",
    "\n",
    "P = precomputedMatrixP(inputs, targets)\n"
   ]
  },
  {
   "cell_type": "code",
   "execution_count": 478,
   "metadata": {},
   "outputs": [
    {
     "ename": "ValueError",
     "evalue": "shapes (40,) and (5,) not aligned: 40 (dim 0) != 5 (dim 0)",
     "output_type": "error",
     "traceback": [
      "\u001b[1;31m---------------------------------------------------------------------------\u001b[0m",
      "\u001b[1;31mValueError\u001b[0m                                Traceback (most recent call last)",
      "\u001b[1;32mc:\\GitHub\\DD2421-Machine-Learning\\SVM\\svm.ipynb Cell 11\u001b[0m line \u001b[0;36m2\n\u001b[0;32m      <a href='vscode-notebook-cell:/c%3A/GitHub/DD2421-Machine-Learning/SVM/svm.ipynb#X22sZmlsZQ%3D%3D?line=0'>1</a>\u001b[0m \u001b[39m########## CALL MINIMIZE ##########\u001b[39;00m\n\u001b[1;32m----> <a href='vscode-notebook-cell:/c%3A/GitHub/DD2421-Machine-Learning/SVM/svm.ipynb#X22sZmlsZQ%3D%3D?line=1'>2</a>\u001b[0m ret \u001b[39m=\u001b[39m minimize(objective, np\u001b[39m.\u001b[39;49mzeros(N), bounds\u001b[39m=\u001b[39;49m[(\u001b[39m0\u001b[39;49m, C) \u001b[39mfor\u001b[39;49;00m i \u001b[39min\u001b[39;49;00m \u001b[39mrange\u001b[39;49m(N)], constraints\u001b[39m=\u001b[39;49m{\u001b[39m'\u001b[39;49m\u001b[39mtype\u001b[39;49m\u001b[39m'\u001b[39;49m:\u001b[39m'\u001b[39;49m\u001b[39meq\u001b[39;49m\u001b[39m'\u001b[39;49m, \u001b[39m'\u001b[39;49m\u001b[39mfun\u001b[39;49m\u001b[39m'\u001b[39;49m:zerofun})\n\u001b[0;32m      <a href='vscode-notebook-cell:/c%3A/GitHub/DD2421-Machine-Learning/SVM/svm.ipynb#X22sZmlsZQ%3D%3D?line=2'>3</a>\u001b[0m alpha \u001b[39m=\u001b[39m ret[\u001b[39m'\u001b[39m\u001b[39mx\u001b[39m\u001b[39m'\u001b[39m]\n\u001b[0;32m      <a href='vscode-notebook-cell:/c%3A/GitHub/DD2421-Machine-Learning/SVM/svm.ipynb#X22sZmlsZQ%3D%3D?line=3'>4</a>\u001b[0m \u001b[39mprint\u001b[39m(alpha)\n",
      "File \u001b[1;32mc:\\Users\\isakn\\miniconda3\\lib\\site-packages\\scipy\\optimize\\_minimize.py:719\u001b[0m, in \u001b[0;36mminimize\u001b[1;34m(fun, x0, args, method, jac, hess, hessp, bounds, constraints, tol, callback, options)\u001b[0m\n\u001b[0;32m    716\u001b[0m     res \u001b[39m=\u001b[39m _minimize_cobyla(fun, x0, args, constraints, callback\u001b[39m=\u001b[39mcallback,\n\u001b[0;32m    717\u001b[0m                            bounds\u001b[39m=\u001b[39mbounds, \u001b[39m*\u001b[39m\u001b[39m*\u001b[39moptions)\n\u001b[0;32m    718\u001b[0m \u001b[39melif\u001b[39;00m meth \u001b[39m==\u001b[39m \u001b[39m'\u001b[39m\u001b[39mslsqp\u001b[39m\u001b[39m'\u001b[39m:\n\u001b[1;32m--> 719\u001b[0m     res \u001b[39m=\u001b[39m _minimize_slsqp(fun, x0, args, jac, bounds,\n\u001b[0;32m    720\u001b[0m                           constraints, callback\u001b[39m=\u001b[39mcallback, \u001b[39m*\u001b[39m\u001b[39m*\u001b[39moptions)\n\u001b[0;32m    721\u001b[0m \u001b[39melif\u001b[39;00m meth \u001b[39m==\u001b[39m \u001b[39m'\u001b[39m\u001b[39mtrust-constr\u001b[39m\u001b[39m'\u001b[39m:\n\u001b[0;32m    722\u001b[0m     res \u001b[39m=\u001b[39m _minimize_trustregion_constr(fun, x0, args, jac, hess, hessp,\n\u001b[0;32m    723\u001b[0m                                        bounds, constraints,\n\u001b[0;32m    724\u001b[0m                                        callback\u001b[39m=\u001b[39mcallback, \u001b[39m*\u001b[39m\u001b[39m*\u001b[39moptions)\n",
      "File \u001b[1;32mc:\\Users\\isakn\\miniconda3\\lib\\site-packages\\scipy\\optimize\\_slsqp_py.py:327\u001b[0m, in \u001b[0;36m_minimize_slsqp\u001b[1;34m(func, x0, args, jac, bounds, constraints, maxiter, ftol, iprint, disp, eps, callback, finite_diff_rel_step, **unknown_options)\u001b[0m\n\u001b[0;32m    313\u001b[0m exit_modes \u001b[39m=\u001b[39m {\u001b[39m-\u001b[39m\u001b[39m1\u001b[39m: \u001b[39m\"\u001b[39m\u001b[39mGradient evaluation required (g & a)\u001b[39m\u001b[39m\"\u001b[39m,\n\u001b[0;32m    314\u001b[0m                \u001b[39m0\u001b[39m: \u001b[39m\"\u001b[39m\u001b[39mOptimization terminated successfully\u001b[39m\u001b[39m\"\u001b[39m,\n\u001b[0;32m    315\u001b[0m                \u001b[39m1\u001b[39m: \u001b[39m\"\u001b[39m\u001b[39mFunction evaluation required (f & c)\u001b[39m\u001b[39m\"\u001b[39m,\n\u001b[1;32m   (...)\u001b[0m\n\u001b[0;32m    322\u001b[0m                \u001b[39m8\u001b[39m: \u001b[39m\"\u001b[39m\u001b[39mPositive directional derivative for linesearch\u001b[39m\u001b[39m\"\u001b[39m,\n\u001b[0;32m    323\u001b[0m                \u001b[39m9\u001b[39m: \u001b[39m\"\u001b[39m\u001b[39mIteration limit reached\u001b[39m\u001b[39m\"\u001b[39m}\n\u001b[0;32m    325\u001b[0m \u001b[39m# Set the parameters that SLSQP will need\u001b[39;00m\n\u001b[0;32m    326\u001b[0m \u001b[39m# meq, mieq: number of equality and inequality constraints\u001b[39;00m\n\u001b[1;32m--> 327\u001b[0m meq \u001b[39m=\u001b[39m \u001b[39msum\u001b[39m(\u001b[39mmap\u001b[39m(\u001b[39mlen\u001b[39m, [atleast_1d(c[\u001b[39m'\u001b[39m\u001b[39mfun\u001b[39m\u001b[39m'\u001b[39m](x, \u001b[39m*\u001b[39mc[\u001b[39m'\u001b[39m\u001b[39margs\u001b[39m\u001b[39m'\u001b[39m]))\n\u001b[0;32m    328\u001b[0m           \u001b[39mfor\u001b[39;00m c \u001b[39min\u001b[39;00m cons[\u001b[39m'\u001b[39m\u001b[39meq\u001b[39m\u001b[39m'\u001b[39m]]))\n\u001b[0;32m    329\u001b[0m mieq \u001b[39m=\u001b[39m \u001b[39msum\u001b[39m(\u001b[39mmap\u001b[39m(\u001b[39mlen\u001b[39m, [atleast_1d(c[\u001b[39m'\u001b[39m\u001b[39mfun\u001b[39m\u001b[39m'\u001b[39m](x, \u001b[39m*\u001b[39mc[\u001b[39m'\u001b[39m\u001b[39margs\u001b[39m\u001b[39m'\u001b[39m]))\n\u001b[0;32m    330\u001b[0m            \u001b[39mfor\u001b[39;00m c \u001b[39min\u001b[39;00m cons[\u001b[39m'\u001b[39m\u001b[39mineq\u001b[39m\u001b[39m'\u001b[39m]]))\n\u001b[0;32m    331\u001b[0m \u001b[39m# m = The total number of constraints\u001b[39;00m\n",
      "File \u001b[1;32mc:\\Users\\isakn\\miniconda3\\lib\\site-packages\\scipy\\optimize\\_slsqp_py.py:327\u001b[0m, in \u001b[0;36m<listcomp>\u001b[1;34m(.0)\u001b[0m\n\u001b[0;32m    313\u001b[0m exit_modes \u001b[39m=\u001b[39m {\u001b[39m-\u001b[39m\u001b[39m1\u001b[39m: \u001b[39m\"\u001b[39m\u001b[39mGradient evaluation required (g & a)\u001b[39m\u001b[39m\"\u001b[39m,\n\u001b[0;32m    314\u001b[0m                \u001b[39m0\u001b[39m: \u001b[39m\"\u001b[39m\u001b[39mOptimization terminated successfully\u001b[39m\u001b[39m\"\u001b[39m,\n\u001b[0;32m    315\u001b[0m                \u001b[39m1\u001b[39m: \u001b[39m\"\u001b[39m\u001b[39mFunction evaluation required (f & c)\u001b[39m\u001b[39m\"\u001b[39m,\n\u001b[1;32m   (...)\u001b[0m\n\u001b[0;32m    322\u001b[0m                \u001b[39m8\u001b[39m: \u001b[39m\"\u001b[39m\u001b[39mPositive directional derivative for linesearch\u001b[39m\u001b[39m\"\u001b[39m,\n\u001b[0;32m    323\u001b[0m                \u001b[39m9\u001b[39m: \u001b[39m\"\u001b[39m\u001b[39mIteration limit reached\u001b[39m\u001b[39m\"\u001b[39m}\n\u001b[0;32m    325\u001b[0m \u001b[39m# Set the parameters that SLSQP will need\u001b[39;00m\n\u001b[0;32m    326\u001b[0m \u001b[39m# meq, mieq: number of equality and inequality constraints\u001b[39;00m\n\u001b[1;32m--> 327\u001b[0m meq \u001b[39m=\u001b[39m \u001b[39msum\u001b[39m(\u001b[39mmap\u001b[39m(\u001b[39mlen\u001b[39m, [atleast_1d(c[\u001b[39m'\u001b[39;49m\u001b[39mfun\u001b[39;49m\u001b[39m'\u001b[39;49m](x, \u001b[39m*\u001b[39;49mc[\u001b[39m'\u001b[39;49m\u001b[39margs\u001b[39;49m\u001b[39m'\u001b[39;49m]))\n\u001b[0;32m    328\u001b[0m           \u001b[39mfor\u001b[39;00m c \u001b[39min\u001b[39;00m cons[\u001b[39m'\u001b[39m\u001b[39meq\u001b[39m\u001b[39m'\u001b[39m]]))\n\u001b[0;32m    329\u001b[0m mieq \u001b[39m=\u001b[39m \u001b[39msum\u001b[39m(\u001b[39mmap\u001b[39m(\u001b[39mlen\u001b[39m, [atleast_1d(c[\u001b[39m'\u001b[39m\u001b[39mfun\u001b[39m\u001b[39m'\u001b[39m](x, \u001b[39m*\u001b[39mc[\u001b[39m'\u001b[39m\u001b[39margs\u001b[39m\u001b[39m'\u001b[39m]))\n\u001b[0;32m    330\u001b[0m            \u001b[39mfor\u001b[39;00m c \u001b[39min\u001b[39;00m cons[\u001b[39m'\u001b[39m\u001b[39mineq\u001b[39m\u001b[39m'\u001b[39m]]))\n\u001b[0;32m    331\u001b[0m \u001b[39m# m = The total number of constraints\u001b[39;00m\n",
      "\u001b[1;32mc:\\GitHub\\DD2421-Machine-Learning\\SVM\\svm.ipynb Cell 11\u001b[0m line \u001b[0;36m3\n\u001b[0;32m      <a href='vscode-notebook-cell:/c%3A/GitHub/DD2421-Machine-Learning/SVM/svm.ipynb#X22sZmlsZQ%3D%3D?line=1'>2</a>\u001b[0m \u001b[39mdef\u001b[39;00m \u001b[39mzerofun\u001b[39m(alpha):\n\u001b[1;32m----> <a href='vscode-notebook-cell:/c%3A/GitHub/DD2421-Machine-Learning/SVM/svm.ipynb#X22sZmlsZQ%3D%3D?line=2'>3</a>\u001b[0m     \u001b[39mreturn\u001b[39;00m np\u001b[39m.\u001b[39;49mdot(alpha, t)\n",
      "File \u001b[1;32m<__array_function__ internals>:200\u001b[0m, in \u001b[0;36mdot\u001b[1;34m(*args, **kwargs)\u001b[0m\n",
      "\u001b[1;31mValueError\u001b[0m: shapes (40,) and (5,) not aligned: 40 (dim 0) != 5 (dim 0)"
     ]
    }
   ],
   "source": [
    "########## CALL MINIMIZE ##########\n",
    "ret = minimize(objective, np.zeros(N), bounds=[(0, C) for i in range(N)], constraints={'type':'eq', 'fun':zerofun})\n",
    "alpha = ret['x']\n",
    "print(alpha)"
   ]
  },
  {
   "cell_type": "code",
   "execution_count": null,
   "metadata": {},
   "outputs": [
    {
     "data": {
      "image/png": "[encoded data removed]",
      "text/plain": [
       "<Figure size 640x480 with 1 Axes>"
      ]
     },
     "metadata": {},
     "output_type": "display_data"
    }
   ],
   "source": [
    "plt.plot([p[0] for p in classA],\n",
    "         [p[1] for p in classA],\n",
    "         'b.')\n",
    "plt.plot([p[0] for p in classB],\n",
    "         [p[1] for p in classB],\n",
    "         'r.')\n",
    "\n",
    "plt.axis('equal')  # Force same scale on both axes\n",
    "plt.savefig('svmplot.pdf')  # Save a copy in a file\n",
    "# plt.show()  # Show the plot on the screen\n",
    "\n",
    "xgrid = np.linspace(-5, 5)\n",
    "ygrid = np.linspace(-4, 4)\n",
    "grid = np.array([[indicator(x, y) \n",
    "                  for x in xgrid]\n",
    "                  for y in ygrid])\n",
    "\n",
    "plt.contour(xgrid, ygrid, grid,\n",
    "            (-1.0, 0.0, 1.0),\n",
    "            colors=('red', 'black', 'blue'), \n",
    "            linewidths=(1, 3, 1))\n",
    "plt.show()\n"
   ]
  },
  {
   "cell_type": "code",
   "execution_count": null,
   "metadata": {},
   "outputs": [],
   "source": []
  }
 ],
 "metadata": {
  "kernelspec": {
   "display_name": "base",
   "language": "python",
   "name": "python3"
  },
  "language_info": {
   "codemirror_mode": {
    "name": "ipython",
    "version": 3
   },
   "file_extension": ".py",
   "mimetype": "text/x-python",
   "name": "python",
   "nbconvert_exporter": "python",
   "pygments_lexer": "ipython3",
   "version": "3.10.8"
  },
  "orig_nbformat": 4
 },
 "nbformat": 4,
 "nbformat_minor": 2
}
