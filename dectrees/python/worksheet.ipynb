{
 "cells": [
  {
   "cell_type": "code",
   "execution_count": null,
   "metadata": {},
   "outputs": [],
   "source": [
    "import monkdata as m\n",
    "import dtree"
   ]
  },
  {
   "cell_type": "code",
   "execution_count": 1,
   "metadata": {},
   "outputs": [
    {
     "ename": "NameError",
     "evalue": "name 'dtree' is not defined",
     "output_type": "error",
     "traceback": [
      "\u001b[1;31m---------------------------------------------------------------------------\u001b[0m",
      "\u001b[1;31mNameError\u001b[0m                                 Traceback (most recent call last)",
      "\u001b[1;32mc:\\GitHub\\DD2421-Machine-Learning\\dectrees\\python\\worksheet.ipynb Cell 2\u001b[0m line \u001b[0;36m1\n\u001b[1;32m----> <a href='vscode-notebook-cell:/c%3A/GitHub/DD2421-Machine-Learning/dectrees/python/worksheet.ipynb#W1sZmlsZQ%3D%3D?line=0'>1</a>\u001b[0m entropy \u001b[39m=\u001b[39m dtree\u001b[39m.\u001b[39mentropy(m\u001b[39m.\u001b[39mmonk1)\n\u001b[0;32m      <a href='vscode-notebook-cell:/c%3A/GitHub/DD2421-Machine-Learning/dectrees/python/worksheet.ipynb#W1sZmlsZQ%3D%3D?line=1'>2</a>\u001b[0m \u001b[39mprint\u001b[39m(\u001b[39m\"\u001b[39m\u001b[39mEntropy of monk1: \u001b[39m\u001b[39m\"\u001b[39m \u001b[39m+\u001b[39m \u001b[39mstr\u001b[39m(entropy))\n\u001b[0;32m      <a href='vscode-notebook-cell:/c%3A/GitHub/DD2421-Machine-Learning/dectrees/python/worksheet.ipynb#W1sZmlsZQ%3D%3D?line=3'>4</a>\u001b[0m entropy \u001b[39m=\u001b[39m dtree\u001b[39m.\u001b[39mentropy(m\u001b[39m.\u001b[39mmonk2)\n",
      "\u001b[1;31mNameError\u001b[0m: name 'dtree' is not defined"
     ]
    }
   ],
   "source": [
    "entropy = dtree.entropy(m.monk1)\n",
    "print(\"Entropy of monk1: \" + str(entropy))\n",
    "\n",
    "entropy = dtree.entropy(m.monk2)\n",
    "print(\"Entropy of monk2: \" + str(entropy))\n",
    "\n",
    "entropy = dtree.entropy(m.monk3)\n",
    "print(\"Entropy of monk3: \" + str(entropy))"
   ]
  }
 ],
 "metadata": {
  "kernelspec": {
   "display_name": "base",
   "language": "python",
   "name": "python3"
  },
  "language_info": {
   "codemirror_mode": {
    "name": "ipython",
    "version": 3
   },
   "file_extension": ".py",
   "mimetype": "text/x-python",
   "name": "python",
   "nbconvert_exporter": "python",
   "pygments_lexer": "ipython3",
   "version": "3.10.8"
  },
  "orig_nbformat": 4
 },
 "nbformat": 4,
 "nbformat_minor": 2
}
